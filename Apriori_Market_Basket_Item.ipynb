{
  "nbformat": 4,
  "nbformat_minor": 0,
  "metadata": {
    "colab": {
      "name": "Apriori_Market_Basket_Item.ipynb",
      "provenance": [],
      "authorship_tag": "ABX9TyNQR68yfgogrGazjs0U2d19",
      "include_colab_link": true
    },
    "kernelspec": {
      "name": "python3",
      "display_name": "Python 3"
    },
    "language_info": {
      "name": "python"
    }
  },
  "cells": [
    {
      "cell_type": "markdown",
      "metadata": {
        "id": "view-in-github",
        "colab_type": "text"
      },
      "source": [
        "<a href=\"https://colab.research.google.com/github/mukkatharun/AprioriMarketBasket/blob/main/Apriori_Market_Basket_Item.ipynb\" target=\"_parent\"><img src=\"https://colab.research.google.com/assets/colab-badge.svg\" alt=\"Open In Colab\"/></a>"
      ]
    },
    {
      "cell_type": "code",
      "metadata": {
        "id": "jW97EJde80K2"
      },
      "source": [
        "import numpy as np \n",
        "import pandas as pd\n",
        "from mlxtend.preprocessing import TransactionEncoder\n",
        "from mlxtend.frequent_patterns import apriori, association_rules\n",
        "import matplotlib.pyplot as plt\n",
        "import seaborn as sns\n"
      ],
      "execution_count": 152,
      "outputs": []
    },
    {
      "cell_type": "code",
      "metadata": {
        "colab": {
          "base_uri": "https://localhost:8080/",
          "height": 206
        },
        "id": "QLEetJVJ9ape",
        "outputId": "ae52b26b-c147-4695-863e-2271187283ae"
      },
      "source": [
        "df = pd.read_csv('TRAIN-ARULES.csv')\n",
        "df.head()"
      ],
      "execution_count": 165,
      "outputs": [
        {
          "output_type": "execute_result",
          "data": {
            "text/html": [
              "<div>\n",
              "<style scoped>\n",
              "    .dataframe tbody tr th:only-of-type {\n",
              "        vertical-align: middle;\n",
              "    }\n",
              "\n",
              "    .dataframe tbody tr th {\n",
              "        vertical-align: top;\n",
              "    }\n",
              "\n",
              "    .dataframe thead th {\n",
              "        text-align: right;\n",
              "    }\n",
              "</style>\n",
              "<table border=\"1\" class=\"dataframe\">\n",
              "  <thead>\n",
              "    <tr style=\"text-align: right;\">\n",
              "      <th></th>\n",
              "      <th>order_id</th>\n",
              "      <th>user_id</th>\n",
              "      <th>product_name</th>\n",
              "    </tr>\n",
              "  </thead>\n",
              "  <tbody>\n",
              "    <tr>\n",
              "      <th>0</th>\n",
              "      <td>1483</td>\n",
              "      <td>90</td>\n",
              "      <td>Organic Pink Lemonade Bunny Fruit Snacks</td>\n",
              "    </tr>\n",
              "    <tr>\n",
              "      <th>1</th>\n",
              "      <td>1483</td>\n",
              "      <td>90</td>\n",
              "      <td>Dark Chocolate Minis</td>\n",
              "    </tr>\n",
              "    <tr>\n",
              "      <th>2</th>\n",
              "      <td>1483</td>\n",
              "      <td>90</td>\n",
              "      <td>Sparkling Water, Natural Mango Essenced</td>\n",
              "    </tr>\n",
              "    <tr>\n",
              "      <th>3</th>\n",
              "      <td>1483</td>\n",
              "      <td>90</td>\n",
              "      <td>Peach-Pear Sparkling Water</td>\n",
              "    </tr>\n",
              "    <tr>\n",
              "      <th>4</th>\n",
              "      <td>1483</td>\n",
              "      <td>90</td>\n",
              "      <td>Organic Heritage Flakes Cereal</td>\n",
              "    </tr>\n",
              "  </tbody>\n",
              "</table>\n",
              "</div>"
            ],
            "text/plain": [
              "   order_id  user_id                              product_name\n",
              "0      1483       90  Organic Pink Lemonade Bunny Fruit Snacks\n",
              "1      1483       90                      Dark Chocolate Minis\n",
              "2      1483       90   Sparkling Water, Natural Mango Essenced\n",
              "3      1483       90                Peach-Pear Sparkling Water\n",
              "4      1483       90            Organic Heritage Flakes Cereal"
            ]
          },
          "metadata": {},
          "execution_count": 165
        }
      ]
    },
    {
      "cell_type": "code",
      "metadata": {
        "colab": {
          "base_uri": "https://localhost:8080/",
          "height": 455
        },
        "id": "HdiJTGXh9nIi",
        "outputId": "1a6d12cf-e8fc-4bc2-a270-cc9dae4b7116"
      },
      "source": [
        "df.groupby(['order_id']).count()"
      ],
      "execution_count": 154,
      "outputs": [
        {
          "output_type": "execute_result",
          "data": {
            "text/html": [
              "<div>\n",
              "<style scoped>\n",
              "    .dataframe tbody tr th:only-of-type {\n",
              "        vertical-align: middle;\n",
              "    }\n",
              "\n",
              "    .dataframe tbody tr th {\n",
              "        vertical-align: top;\n",
              "    }\n",
              "\n",
              "    .dataframe thead th {\n",
              "        text-align: right;\n",
              "    }\n",
              "</style>\n",
              "<table border=\"1\" class=\"dataframe\">\n",
              "  <thead>\n",
              "    <tr style=\"text-align: right;\">\n",
              "      <th></th>\n",
              "      <th>user_id</th>\n",
              "      <th>product_name</th>\n",
              "    </tr>\n",
              "    <tr>\n",
              "      <th>order_id</th>\n",
              "      <th></th>\n",
              "      <th></th>\n",
              "    </tr>\n",
              "  </thead>\n",
              "  <tbody>\n",
              "    <tr>\n",
              "      <th>1483</th>\n",
              "      <td>12</td>\n",
              "      <td>12</td>\n",
              "    </tr>\n",
              "    <tr>\n",
              "      <th>4595</th>\n",
              "      <td>5</td>\n",
              "      <td>5</td>\n",
              "    </tr>\n",
              "    <tr>\n",
              "      <th>7099</th>\n",
              "      <td>13</td>\n",
              "      <td>13</td>\n",
              "    </tr>\n",
              "    <tr>\n",
              "      <th>8382</th>\n",
              "      <td>9</td>\n",
              "      <td>9</td>\n",
              "    </tr>\n",
              "    <tr>\n",
              "      <th>14400</th>\n",
              "      <td>3</td>\n",
              "      <td>3</td>\n",
              "    </tr>\n",
              "    <tr>\n",
              "      <th>...</th>\n",
              "      <td>...</td>\n",
              "      <td>...</td>\n",
              "    </tr>\n",
              "    <tr>\n",
              "      <th>3394109</th>\n",
              "      <td>12</td>\n",
              "      <td>12</td>\n",
              "    </tr>\n",
              "    <tr>\n",
              "      <th>3395314</th>\n",
              "      <td>13</td>\n",
              "      <td>13</td>\n",
              "    </tr>\n",
              "    <tr>\n",
              "      <th>3401727</th>\n",
              "      <td>20</td>\n",
              "      <td>20</td>\n",
              "    </tr>\n",
              "    <tr>\n",
              "      <th>3408319</th>\n",
              "      <td>7</td>\n",
              "      <td>7</td>\n",
              "    </tr>\n",
              "    <tr>\n",
              "      <th>3413579</th>\n",
              "      <td>6</td>\n",
              "      <td>6</td>\n",
              "    </tr>\n",
              "  </tbody>\n",
              "</table>\n",
              "<p>1418 rows × 2 columns</p>\n",
              "</div>"
            ],
            "text/plain": [
              "          user_id  product_name\n",
              "order_id                       \n",
              "1483           12            12\n",
              "4595            5             5\n",
              "7099           13            13\n",
              "8382            9             9\n",
              "14400           3             3\n",
              "...           ...           ...\n",
              "3394109        12            12\n",
              "3395314        13            13\n",
              "3401727        20            20\n",
              "3408319         7             7\n",
              "3413579         6             6\n",
              "\n",
              "[1418 rows x 2 columns]"
            ]
          },
          "metadata": {},
          "execution_count": 154
        }
      ]
    },
    {
      "cell_type": "code",
      "metadata": {
        "colab": {
          "base_uri": "https://localhost:8080/",
          "height": 426
        },
        "id": "0OYr9gTB-AzA",
        "outputId": "b7de0291-8de4-4b5c-cdc1-631360f4af69"
      },
      "source": [
        "df[df['order_id'] == 1483]"
      ],
      "execution_count": 155,
      "outputs": [
        {
          "output_type": "execute_result",
          "data": {
            "text/html": [
              "<div>\n",
              "<style scoped>\n",
              "    .dataframe tbody tr th:only-of-type {\n",
              "        vertical-align: middle;\n",
              "    }\n",
              "\n",
              "    .dataframe tbody tr th {\n",
              "        vertical-align: top;\n",
              "    }\n",
              "\n",
              "    .dataframe thead th {\n",
              "        text-align: right;\n",
              "    }\n",
              "</style>\n",
              "<table border=\"1\" class=\"dataframe\">\n",
              "  <thead>\n",
              "    <tr style=\"text-align: right;\">\n",
              "      <th></th>\n",
              "      <th>order_id</th>\n",
              "      <th>user_id</th>\n",
              "      <th>product_name</th>\n",
              "    </tr>\n",
              "  </thead>\n",
              "  <tbody>\n",
              "    <tr>\n",
              "      <th>0</th>\n",
              "      <td>1483</td>\n",
              "      <td>90</td>\n",
              "      <td>Organic Pink Lemonade Bunny Fruit Snacks</td>\n",
              "    </tr>\n",
              "    <tr>\n",
              "      <th>1</th>\n",
              "      <td>1483</td>\n",
              "      <td>90</td>\n",
              "      <td>Dark Chocolate Minis</td>\n",
              "    </tr>\n",
              "    <tr>\n",
              "      <th>2</th>\n",
              "      <td>1483</td>\n",
              "      <td>90</td>\n",
              "      <td>Sparkling Water, Natural Mango Essenced</td>\n",
              "    </tr>\n",
              "    <tr>\n",
              "      <th>3</th>\n",
              "      <td>1483</td>\n",
              "      <td>90</td>\n",
              "      <td>Peach-Pear Sparkling Water</td>\n",
              "    </tr>\n",
              "    <tr>\n",
              "      <th>4</th>\n",
              "      <td>1483</td>\n",
              "      <td>90</td>\n",
              "      <td>Organic Heritage Flakes Cereal</td>\n",
              "    </tr>\n",
              "    <tr>\n",
              "      <th>5</th>\n",
              "      <td>1483</td>\n",
              "      <td>90</td>\n",
              "      <td>Popped Salted Caramel Granola Bars</td>\n",
              "    </tr>\n",
              "    <tr>\n",
              "      <th>6</th>\n",
              "      <td>1483</td>\n",
              "      <td>90</td>\n",
              "      <td>Healthy Grains Granola Bar, Vanilla Blueberry</td>\n",
              "    </tr>\n",
              "    <tr>\n",
              "      <th>7</th>\n",
              "      <td>1483</td>\n",
              "      <td>90</td>\n",
              "      <td>Flax Plus Organic Pumpkin Flax Granola</td>\n",
              "    </tr>\n",
              "    <tr>\n",
              "      <th>8</th>\n",
              "      <td>1483</td>\n",
              "      <td>90</td>\n",
              "      <td>Sweet &amp; Salty Nut Almond Granola Bars</td>\n",
              "    </tr>\n",
              "    <tr>\n",
              "      <th>9</th>\n",
              "      <td>1483</td>\n",
              "      <td>90</td>\n",
              "      <td>Cool Mint Chocolate Energy Bar</td>\n",
              "    </tr>\n",
              "    <tr>\n",
              "      <th>10</th>\n",
              "      <td>1483</td>\n",
              "      <td>90</td>\n",
              "      <td>Chocolate Chip Energy Bars</td>\n",
              "    </tr>\n",
              "    <tr>\n",
              "      <th>11</th>\n",
              "      <td>1483</td>\n",
              "      <td>90</td>\n",
              "      <td>Trail Mix Fruit &amp; Nut Chewy Granola Bars</td>\n",
              "    </tr>\n",
              "  </tbody>\n",
              "</table>\n",
              "</div>"
            ],
            "text/plain": [
              "    order_id  user_id                                   product_name\n",
              "0       1483       90       Organic Pink Lemonade Bunny Fruit Snacks\n",
              "1       1483       90                           Dark Chocolate Minis\n",
              "2       1483       90        Sparkling Water, Natural Mango Essenced\n",
              "3       1483       90                     Peach-Pear Sparkling Water\n",
              "4       1483       90                 Organic Heritage Flakes Cereal\n",
              "5       1483       90             Popped Salted Caramel Granola Bars\n",
              "6       1483       90  Healthy Grains Granola Bar, Vanilla Blueberry\n",
              "7       1483       90         Flax Plus Organic Pumpkin Flax Granola\n",
              "8       1483       90          Sweet & Salty Nut Almond Granola Bars\n",
              "9       1483       90                 Cool Mint Chocolate Energy Bar\n",
              "10      1483       90                     Chocolate Chip Energy Bars\n",
              "11      1483       90       Trail Mix Fruit & Nut Chewy Granola Bars"
            ]
          },
          "metadata": {},
          "execution_count": 155
        }
      ]
    },
    {
      "cell_type": "code",
      "metadata": {
        "id": "GGfZO4E6Ihzc"
      },
      "source": [
        "df.product_name = [\"\".join(i.split(\",\")) for i in df.product_name]\n",
        "orders = df.order_id.unique()\n",
        "transactions = [df[df.order_id == i][\"product_name\"].tolist() for i in orders]"
      ],
      "execution_count": 170,
      "outputs": []
    },
    {
      "cell_type": "code",
      "metadata": {
        "id": "XTVGN6tPZhd2"
      },
      "source": [
        "trans_encoder = TransactionEncoder().fit(transactions)\n",
        "transactions = trans_encoder.transform(transactions)\n",
        "transactions = pd.DataFrame(transactions,columns=trans_encoder.columns_)"
      ],
      "execution_count": 171,
      "outputs": []
    },
    {
      "cell_type": "code",
      "metadata": {
        "id": "4BRqRI0SaEzf"
      },
      "source": [
        "freq_itemset_using_apriori = apriori(transactions, min_support = 0.01, use_colnames = True)\n",
        "association_rules_using_apriori = association_rules(freq_itemset_using_apriori, metric = \"confidence\")"
      ],
      "execution_count": 172,
      "outputs": []
    },
    {
      "cell_type": "code",
      "metadata": {
        "colab": {
          "base_uri": "https://localhost:8080/"
        },
        "id": "9BtBQd1yadHW",
        "outputId": "59b59ce5-a8f5-43b1-9e2c-cfb21666fd58"
      },
      "source": [
        "for item in association_rules_using_apriori.iterrows():\n",
        "  print(f\"Rule {item[0] + 1}: {tuple(item[1].antecedents)} -> {tuple(item[1].consequents)}\")"
      ],
      "execution_count": 173,
      "outputs": [
        {
          "output_type": "stream",
          "name": "stdout",
          "text": [
            "Rule 1: ('Authentic French Brioche',) -> ('Petit Suisse Fruit',)\n",
            "Rule 2: ('Petit Suisse Fruit',) -> ('Authentic French Brioche',)\n",
            "Rule 3: ('Oatmeal Crème Pies',) -> ('Cran-Apple Juice Drink',)\n",
            "Rule 4: ('Cran-Apple Juice Drink',) -> ('Oatmeal Crème Pies',)\n",
            "Rule 5: ('Sparkling Water Natural Mango Essenced',) -> ('Dark Chocolate Minis',)\n",
            "Rule 6: ('Grade A Extra Large Eggs',) -> ('Natural Lime Flavor Sparkling Mineral Water',)\n",
            "Rule 7: ('Lemon Sparkling Water',) -> ('Orange Sparkling Water',)\n",
            "Rule 8: ('Light Oaked Chardonnay',) -> ('Natural Lime Flavor Sparkling Mineral Water',)\n",
            "Rule 9: ('Reduced Fat Milk',) -> ('Natural Artesian Bottled Water',)\n",
            "Rule 10: ('Organic Graham Crunch Cereal',) -> ('Organic Heritage Flakes Cereal',)\n",
            "Rule 11: ('Sparkling Water Natural Mango Essenced',) -> ('Organic Pink Lemonade Bunny Fruit Snacks',)\n",
            "Rule 12: ('Sparkling Water Natural Mango Essenced',) -> ('Peach-Pear Sparkling Water',)\n",
            "Rule 13: ('Zero Calorie Cola',) -> ('Soda',)\n",
            "Rule 14: ('Total 0% Raspberry Yogurt',) -> ('Total 2% with Strawberry Lowfat Greek Strained Yogurt',)\n",
            "Rule 15: ('Total 2% Lowfat Greek Strained Yogurt With Blueberry',) -> ('Total 2% with Strawberry Lowfat Greek Strained Yogurt',)\n",
            "Rule 16: ('Organic Pink Lemonade Bunny Fruit Snacks', 'Peach-Pear Sparkling Water') -> ('Dark Chocolate Minis',)\n",
            "Rule 17: ('Dark Chocolate Minis', 'Peach-Pear Sparkling Water') -> ('Organic Pink Lemonade Bunny Fruit Snacks',)\n",
            "Rule 18: ('Organic Pink Lemonade Bunny Fruit Snacks', 'Sparkling Water Natural Mango Essenced') -> ('Dark Chocolate Minis',)\n",
            "Rule 19: ('Dark Chocolate Minis', 'Sparkling Water Natural Mango Essenced') -> ('Organic Pink Lemonade Bunny Fruit Snacks',)\n",
            "Rule 20: ('Sparkling Water Natural Mango Essenced',) -> ('Organic Pink Lemonade Bunny Fruit Snacks', 'Dark Chocolate Minis')\n",
            "Rule 21: ('Dark Chocolate Minis', 'Sparkling Water Natural Mango Essenced') -> ('Peach-Pear Sparkling Water',)\n",
            "Rule 22: ('Dark Chocolate Minis', 'Peach-Pear Sparkling Water') -> ('Sparkling Water Natural Mango Essenced',)\n",
            "Rule 23: ('Sparkling Water Natural Mango Essenced', 'Peach-Pear Sparkling Water') -> ('Dark Chocolate Minis',)\n",
            "Rule 24: ('Sparkling Water Natural Mango Essenced',) -> ('Dark Chocolate Minis', 'Peach-Pear Sparkling Water')\n",
            "Rule 25: ('Natural Lime Flavor Sparkling Mineral Water', 'Light Oaked Chardonnay') -> ('Grade A Extra Large Eggs',)\n",
            "Rule 26: ('Grade A Extra Large Eggs', 'Light Oaked Chardonnay') -> ('Natural Lime Flavor Sparkling Mineral Water',)\n",
            "Rule 27: ('Organic Heritage Flakes Cereal', 'Peach-Pear Sparkling Water') -> ('Organic Pink Lemonade Bunny Fruit Snacks',)\n",
            "Rule 28: ('Organic Pink Lemonade Bunny Fruit Snacks', 'Sparkling Water Natural Mango Essenced') -> ('Peach-Pear Sparkling Water',)\n",
            "Rule 29: ('Organic Pink Lemonade Bunny Fruit Snacks', 'Peach-Pear Sparkling Water') -> ('Sparkling Water Natural Mango Essenced',)\n",
            "Rule 30: ('Sparkling Water Natural Mango Essenced', 'Peach-Pear Sparkling Water') -> ('Organic Pink Lemonade Bunny Fruit Snacks',)\n",
            "Rule 31: ('Sparkling Water Natural Mango Essenced',) -> ('Organic Pink Lemonade Bunny Fruit Snacks', 'Peach-Pear Sparkling Water')\n",
            "Rule 32: ('Organic Pink Lemonade Bunny Fruit Snacks', 'Sparkling Water Natural Mango Essenced', 'Peach-Pear Sparkling Water') -> ('Dark Chocolate Minis',)\n",
            "Rule 33: ('Organic Pink Lemonade Bunny Fruit Snacks', 'Sparkling Water Natural Mango Essenced', 'Dark Chocolate Minis') -> ('Peach-Pear Sparkling Water',)\n",
            "Rule 34: ('Organic Pink Lemonade Bunny Fruit Snacks', 'Peach-Pear Sparkling Water', 'Dark Chocolate Minis') -> ('Sparkling Water Natural Mango Essenced',)\n",
            "Rule 35: ('Dark Chocolate Minis', 'Sparkling Water Natural Mango Essenced', 'Peach-Pear Sparkling Water') -> ('Organic Pink Lemonade Bunny Fruit Snacks',)\n",
            "Rule 36: ('Organic Pink Lemonade Bunny Fruit Snacks', 'Sparkling Water Natural Mango Essenced') -> ('Dark Chocolate Minis', 'Peach-Pear Sparkling Water')\n",
            "Rule 37: ('Sparkling Water Natural Mango Essenced', 'Peach-Pear Sparkling Water') -> ('Organic Pink Lemonade Bunny Fruit Snacks', 'Dark Chocolate Minis')\n",
            "Rule 38: ('Dark Chocolate Minis', 'Sparkling Water Natural Mango Essenced') -> ('Organic Pink Lemonade Bunny Fruit Snacks', 'Peach-Pear Sparkling Water')\n",
            "Rule 39: ('Dark Chocolate Minis', 'Peach-Pear Sparkling Water') -> ('Organic Pink Lemonade Bunny Fruit Snacks', 'Sparkling Water Natural Mango Essenced')\n"
          ]
        }
      ]
    },
    {
      "cell_type": "code",
      "metadata": {
        "colab": {
          "base_uri": "https://localhost:8080/"
        },
        "id": "M-QLkN2KagzW",
        "outputId": "1adc2c02-1de3-4794-e7d8-44364577de89"
      },
      "source": [
        "data_frame_test = pd.read_csv('testarules.csv')\n",
        "data_frame_test.product_name = [\"\".join(i.split(\",\")) for i in data_frame_test]"
      ],
      "execution_count": 174,
      "outputs": [
        {
          "output_type": "stream",
          "name": "stderr",
          "text": [
            "/usr/local/lib/python3.7/dist-packages/ipykernel_launcher.py:2: UserWarning: Pandas doesn't allow columns to be created via a new attribute name - see https://pandas.pydata.org/pandas-docs/stable/indexing.html#attribute-access\n",
            "  \n"
          ]
        }
      ]
    },
    {
      "cell_type": "code",
      "metadata": {
        "colab": {
          "base_uri": "https://localhost:8080/"
        },
        "id": "xO5v9REfanP7",
        "outputId": "a30cc1af-6883-4bcb-b28e-0aa661790989"
      },
      "source": [
        "data_frame_test['Item1']\n"
      ],
      "execution_count": 175,
      "outputs": [
        {
          "output_type": "execute_result",
          "data": {
            "text/plain": [
              "0    Dark Chocolate Minis\n",
              "Name: Item1, dtype: object"
            ]
          },
          "metadata": {},
          "execution_count": 175
        }
      ]
    },
    {
      "cell_type": "code",
      "metadata": {
        "colab": {
          "base_uri": "https://localhost:8080/",
          "height": 81
        },
        "id": "FKyEtq78ar-t",
        "outputId": "ac3d4ea1-69f3-4dd0-8d76-e59aa8ef551f"
      },
      "source": [
        "freq_itemset_using_apriori[ freq_itemset_using_apriori['itemsets'] == {'Dark Chocolate Minis'} ]\n"
      ],
      "execution_count": 176,
      "outputs": [
        {
          "output_type": "execute_result",
          "data": {
            "text/html": [
              "<div>\n",
              "<style scoped>\n",
              "    .dataframe tbody tr th:only-of-type {\n",
              "        vertical-align: middle;\n",
              "    }\n",
              "\n",
              "    .dataframe tbody tr th {\n",
              "        vertical-align: top;\n",
              "    }\n",
              "\n",
              "    .dataframe thead th {\n",
              "        text-align: right;\n",
              "    }\n",
              "</style>\n",
              "<table border=\"1\" class=\"dataframe\">\n",
              "  <thead>\n",
              "    <tr style=\"text-align: right;\">\n",
              "      <th></th>\n",
              "      <th>support</th>\n",
              "      <th>itemsets</th>\n",
              "    </tr>\n",
              "  </thead>\n",
              "  <tbody>\n",
              "    <tr>\n",
              "      <th>26</th>\n",
              "      <td>0.021157</td>\n",
              "      <td>(Dark Chocolate Minis)</td>\n",
              "    </tr>\n",
              "  </tbody>\n",
              "</table>\n",
              "</div>"
            ],
            "text/plain": [
              "     support                itemsets\n",
              "26  0.021157  (Dark Chocolate Minis)"
            ]
          },
          "metadata": {},
          "execution_count": 176
        }
      ]
    },
    {
      "cell_type": "code",
      "metadata": {
        "colab": {
          "base_uri": "https://localhost:8080/"
        },
        "id": "yTAsEhEAauuy",
        "outputId": "a71f18b8-f8fe-4183-f61c-a1982600f0c7"
      },
      "source": [
        "data_frame_test['Item2']\n"
      ],
      "execution_count": 177,
      "outputs": [
        {
          "output_type": "execute_result",
          "data": {
            "text/plain": [
              "0    Organic Pink Lemonade Bunny Fruit Snacks\n",
              "Name: Item2, dtype: object"
            ]
          },
          "metadata": {},
          "execution_count": 177
        }
      ]
    },
    {
      "cell_type": "code",
      "metadata": {
        "colab": {
          "base_uri": "https://localhost:8080/",
          "height": 81
        },
        "id": "sACLnDMiaxJB",
        "outputId": "b9b4a3e8-3c3a-4cad-f18f-a206ecfe36f2"
      },
      "source": [
        "freq_itemset_using_apriori[ freq_itemset_using_apriori['itemsets'] == {'Organic Pink Lemonade Bunny Fruit Snacks'} ]\n"
      ],
      "execution_count": 178,
      "outputs": [
        {
          "output_type": "execute_result",
          "data": {
            "text/html": [
              "<div>\n",
              "<style scoped>\n",
              "    .dataframe tbody tr th:only-of-type {\n",
              "        vertical-align: middle;\n",
              "    }\n",
              "\n",
              "    .dataframe tbody tr th {\n",
              "        vertical-align: top;\n",
              "    }\n",
              "\n",
              "    .dataframe thead th {\n",
              "        text-align: right;\n",
              "    }\n",
              "</style>\n",
              "<table border=\"1\" class=\"dataframe\">\n",
              "  <thead>\n",
              "    <tr style=\"text-align: right;\">\n",
              "      <th></th>\n",
              "      <th>support</th>\n",
              "      <th>itemsets</th>\n",
              "    </tr>\n",
              "  </thead>\n",
              "  <tbody>\n",
              "    <tr>\n",
              "      <th>97</th>\n",
              "      <td>0.020451</td>\n",
              "      <td>(Organic Pink Lemonade Bunny Fruit Snacks)</td>\n",
              "    </tr>\n",
              "  </tbody>\n",
              "</table>\n",
              "</div>"
            ],
            "text/plain": [
              "     support                                    itemsets\n",
              "97  0.020451  (Organic Pink Lemonade Bunny Fruit Snacks)"
            ]
          },
          "metadata": {},
          "execution_count": 178
        }
      ]
    },
    {
      "cell_type": "code",
      "metadata": {
        "colab": {
          "base_uri": "https://localhost:8080/"
        },
        "id": "5Q9Yjtseay_j",
        "outputId": "48bb0ec4-e89e-443f-d20d-40bd299aeffc"
      },
      "source": [
        "data_frame_test['Item3']\n"
      ],
      "execution_count": 179,
      "outputs": [
        {
          "output_type": "execute_result",
          "data": {
            "text/plain": [
              "0    Peach-Pear Sparkling Water\n",
              "Name: Item3, dtype: object"
            ]
          },
          "metadata": {},
          "execution_count": 179
        }
      ]
    },
    {
      "cell_type": "code",
      "metadata": {
        "colab": {
          "base_uri": "https://localhost:8080/",
          "height": 81
        },
        "id": "yElcS_tja1LN",
        "outputId": "7ea91ce1-9014-48c4-b222-5e48b86e10da"
      },
      "source": [
        "freq_itemset_using_apriori[ freq_itemset_using_apriori['itemsets'] == {'Peach-Pear Sparkling Water'} ]\n"
      ],
      "execution_count": 180,
      "outputs": [
        {
          "output_type": "execute_result",
          "data": {
            "text/html": [
              "<div>\n",
              "<style scoped>\n",
              "    .dataframe tbody tr th:only-of-type {\n",
              "        vertical-align: middle;\n",
              "    }\n",
              "\n",
              "    .dataframe tbody tr th {\n",
              "        vertical-align: top;\n",
              "    }\n",
              "\n",
              "    .dataframe thead th {\n",
              "        text-align: right;\n",
              "    }\n",
              "</style>\n",
              "<table border=\"1\" class=\"dataframe\">\n",
              "  <thead>\n",
              "    <tr style=\"text-align: right;\">\n",
              "      <th></th>\n",
              "      <th>support</th>\n",
              "      <th>itemsets</th>\n",
              "    </tr>\n",
              "  </thead>\n",
              "  <tbody>\n",
              "    <tr>\n",
              "      <th>116</th>\n",
              "      <td>0.016925</td>\n",
              "      <td>(Peach-Pear Sparkling Water)</td>\n",
              "    </tr>\n",
              "  </tbody>\n",
              "</table>\n",
              "</div>"
            ],
            "text/plain": [
              "      support                      itemsets\n",
              "116  0.016925  (Peach-Pear Sparkling Water)"
            ]
          },
          "metadata": {},
          "execution_count": 180
        }
      ]
    },
    {
      "cell_type": "code",
      "metadata": {
        "id": "zGEfbe-Xa3p5"
      },
      "source": [
        ""
      ],
      "execution_count": null,
      "outputs": []
    }
  ]
}